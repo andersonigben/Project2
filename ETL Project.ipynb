{
 "cells": [
  {
   "cell_type": "code",
   "execution_count": 3,
   "id": "919b67fa",
   "metadata": {},
   "outputs": [],
   "source": [
    "#Import Dependencies\n",
    "import pandas as pd\n",
    "import numpy as np\n",
    "from sqlalchemy import create_engine"
   ]
  },
  {
   "cell_type": "code",
   "execution_count": 1,
   "id": "8848df3e",
   "metadata": {},
   "outputs": [],
   "source": [
    "#Import Code\n",
    "NGA = \"Resources/Crude_oil_NGPL_and_other_liquids_production_Nigeria_Monthly.csv\"\n",
    "NewNGAData = \"Resources/DP_LIVE_14102021210027837.csv\""
   ]
  },
  {
   "cell_type": "code",
   "execution_count": 9,
   "id": "a0f49b53",
   "metadata": {},
   "outputs": [],
   "source": [
    "ngadf = pd.read_csv(NGA)\n",
    "newngadf = pd.read_csv(NewNGAData)"
   ]
  },
  {
   "cell_type": "code",
   "execution_count": 12,
   "id": "2dbb2f2b",
   "metadata": {},
   "outputs": [
    {
     "data": {
      "text/html": [
       "<div>\n",
       "<style scoped>\n",
       "    .dataframe tbody tr th:only-of-type {\n",
       "        vertical-align: middle;\n",
       "    }\n",
       "\n",
       "    .dataframe tbody tr th {\n",
       "        vertical-align: top;\n",
       "    }\n",
       "\n",
       "    .dataframe thead th {\n",
       "        text-align: right;\n",
       "    }\n",
       "</style>\n",
       "<table border=\"1\" class=\"dataframe\">\n",
       "  <thead>\n",
       "    <tr style=\"text-align: right;\">\n",
       "      <th></th>\n",
       "      <th>LOCATION</th>\n",
       "      <th>INDICATOR</th>\n",
       "      <th>SUBJECT</th>\n",
       "      <th>MEASURE</th>\n",
       "      <th>FREQUENCY</th>\n",
       "      <th>TIME</th>\n",
       "      <th>Value</th>\n",
       "    </tr>\n",
       "  </thead>\n",
       "  <tbody>\n",
       "    <tr>\n",
       "      <th>0</th>\n",
       "      <td>NGA</td>\n",
       "      <td>OILPROD</td>\n",
       "      <td>TOT</td>\n",
       "      <td>KTOE</td>\n",
       "      <td>A</td>\n",
       "      <td>1991</td>\n",
       "      <td>91829.271</td>\n",
       "    </tr>\n",
       "    <tr>\n",
       "      <th>1</th>\n",
       "      <td>NGA</td>\n",
       "      <td>OILPROD</td>\n",
       "      <td>TOT</td>\n",
       "      <td>KTOE</td>\n",
       "      <td>A</td>\n",
       "      <td>1992</td>\n",
       "      <td>95165.881</td>\n",
       "    </tr>\n",
       "    <tr>\n",
       "      <th>2</th>\n",
       "      <td>NGA</td>\n",
       "      <td>OILPROD</td>\n",
       "      <td>TOT</td>\n",
       "      <td>KTOE</td>\n",
       "      <td>A</td>\n",
       "      <td>1993</td>\n",
       "      <td>94904.507</td>\n",
       "    </tr>\n",
       "    <tr>\n",
       "      <th>3</th>\n",
       "      <td>NGA</td>\n",
       "      <td>OILPROD</td>\n",
       "      <td>TOT</td>\n",
       "      <td>KTOE</td>\n",
       "      <td>A</td>\n",
       "      <td>1994</td>\n",
       "      <td>94407.282</td>\n",
       "    </tr>\n",
       "    <tr>\n",
       "      <th>4</th>\n",
       "      <td>NGA</td>\n",
       "      <td>OILPROD</td>\n",
       "      <td>TOT</td>\n",
       "      <td>KTOE</td>\n",
       "      <td>A</td>\n",
       "      <td>1995</td>\n",
       "      <td>95997.992</td>\n",
       "    </tr>\n",
       "  </tbody>\n",
       "</table>\n",
       "</div>"
      ],
      "text/plain": [
       "  LOCATION INDICATOR SUBJECT MEASURE FREQUENCY  TIME      Value\n",
       "0      NGA   OILPROD     TOT    KTOE         A  1991  91829.271\n",
       "1      NGA   OILPROD     TOT    KTOE         A  1992  95165.881\n",
       "2      NGA   OILPROD     TOT    KTOE         A  1993  94904.507\n",
       "3      NGA   OILPROD     TOT    KTOE         A  1994  94407.282\n",
       "4      NGA   OILPROD     TOT    KTOE         A  1995  95997.992"
      ]
     },
     "execution_count": 12,
     "metadata": {},
     "output_type": "execute_result"
    }
   ],
   "source": [
    "newngadf.head()"
   ]
  },
  {
   "cell_type": "code",
   "execution_count": 14,
   "id": "5e3dddfe",
   "metadata": {},
   "outputs": [
    {
     "data": {
      "text/html": [
       "<div>\n",
       "<style scoped>\n",
       "    .dataframe tbody tr th:only-of-type {\n",
       "        vertical-align: middle;\n",
       "    }\n",
       "\n",
       "    .dataframe tbody tr th {\n",
       "        vertical-align: top;\n",
       "    }\n",
       "\n",
       "    .dataframe thead th {\n",
       "        text-align: right;\n",
       "    }\n",
       "</style>\n",
       "<table border=\"1\" class=\"dataframe\">\n",
       "  <thead>\n",
       "    <tr style=\"text-align: right;\">\n",
       "      <th></th>\n",
       "      <th>TIME</th>\n",
       "      <th>Value</th>\n",
       "    </tr>\n",
       "  </thead>\n",
       "  <tbody>\n",
       "    <tr>\n",
       "      <th>0</th>\n",
       "      <td>1991</td>\n",
       "      <td>91829.271</td>\n",
       "    </tr>\n",
       "    <tr>\n",
       "      <th>1</th>\n",
       "      <td>1992</td>\n",
       "      <td>95165.881</td>\n",
       "    </tr>\n",
       "    <tr>\n",
       "      <th>2</th>\n",
       "      <td>1993</td>\n",
       "      <td>94904.507</td>\n",
       "    </tr>\n",
       "    <tr>\n",
       "      <th>3</th>\n",
       "      <td>1994</td>\n",
       "      <td>94407.282</td>\n",
       "    </tr>\n",
       "    <tr>\n",
       "      <th>4</th>\n",
       "      <td>1995</td>\n",
       "      <td>95997.992</td>\n",
       "    </tr>\n",
       "  </tbody>\n",
       "</table>\n",
       "</div>"
      ],
      "text/plain": [
       "   TIME      Value\n",
       "0  1991  91829.271\n",
       "1  1992  95165.881\n",
       "2  1993  94904.507\n",
       "3  1994  94407.282\n",
       "4  1995  95997.992"
      ]
     },
     "execution_count": 14,
     "metadata": {},
     "output_type": "execute_result"
    }
   ],
   "source": [
    "newngadf = newngadf[[\"TIME\",\"Value\"]]\n",
    "newngadf.head()"
   ]
  },
  {
   "cell_type": "code",
   "execution_count": 16,
   "id": "1b9a5f78",
   "metadata": {},
   "outputs": [],
   "source": [
    "newngadf = newngadf.rename(columns = {\"TIME\":\"Year\",\"Value\":\"Barrels Crude Oil Produced Per Day\"})\n"
   ]
  },
  {
   "cell_type": "code",
   "execution_count": 19,
   "id": "cb0f40e0",
   "metadata": {},
   "outputs": [
    {
     "data": {
      "text/html": [
       "<div>\n",
       "<style scoped>\n",
       "    .dataframe tbody tr th:only-of-type {\n",
       "        vertical-align: middle;\n",
       "    }\n",
       "\n",
       "    .dataframe tbody tr th {\n",
       "        vertical-align: top;\n",
       "    }\n",
       "\n",
       "    .dataframe thead th {\n",
       "        text-align: right;\n",
       "    }\n",
       "</style>\n",
       "<table border=\"1\" class=\"dataframe\">\n",
       "  <thead>\n",
       "    <tr style=\"text-align: right;\">\n",
       "      <th></th>\n",
       "      <th>Year</th>\n",
       "      <th>Barrels Crude Oil Produced Per Day</th>\n",
       "    </tr>\n",
       "  </thead>\n",
       "  <tbody>\n",
       "    <tr>\n",
       "      <th>0</th>\n",
       "      <td>1991</td>\n",
       "      <td>91829.271</td>\n",
       "    </tr>\n",
       "    <tr>\n",
       "      <th>1</th>\n",
       "      <td>1992</td>\n",
       "      <td>95165.881</td>\n",
       "    </tr>\n",
       "    <tr>\n",
       "      <th>2</th>\n",
       "      <td>1993</td>\n",
       "      <td>94904.507</td>\n",
       "    </tr>\n",
       "    <tr>\n",
       "      <th>3</th>\n",
       "      <td>1994</td>\n",
       "      <td>94407.282</td>\n",
       "    </tr>\n",
       "    <tr>\n",
       "      <th>4</th>\n",
       "      <td>1995</td>\n",
       "      <td>95997.992</td>\n",
       "    </tr>\n",
       "  </tbody>\n",
       "</table>\n",
       "</div>"
      ],
      "text/plain": [
       "   Year  Barrels Crude Oil Produced Per Day\n",
       "0  1991                           91829.271\n",
       "1  1992                           95165.881\n",
       "2  1993                           94904.507\n",
       "3  1994                           94407.282\n",
       "4  1995                           95997.992"
      ]
     },
     "execution_count": 19,
     "metadata": {},
     "output_type": "execute_result"
    }
   ],
   "source": [
    "newngadf.head()"
   ]
  },
  {
   "cell_type": "code",
   "execution_count": 68,
   "id": "a500170a",
   "metadata": {},
   "outputs": [
    {
     "data": {
      "text/html": [
       "<div>\n",
       "<style scoped>\n",
       "    .dataframe tbody tr th:only-of-type {\n",
       "        vertical-align: middle;\n",
       "    }\n",
       "\n",
       "    .dataframe tbody tr th {\n",
       "        vertical-align: top;\n",
       "    }\n",
       "\n",
       "    .dataframe thead th {\n",
       "        text-align: right;\n",
       "    }\n",
       "</style>\n",
       "<table border=\"1\" class=\"dataframe\">\n",
       "  <thead>\n",
       "    <tr style=\"text-align: right;\">\n",
       "      <th></th>\n",
       "      <th>Month</th>\n",
       "      <th>Series ID: INTL.55-1-NGA-TBPD.M thousand barrels per day</th>\n",
       "    </tr>\n",
       "  </thead>\n",
       "  <tbody>\n",
       "    <tr>\n",
       "      <th>0</th>\n",
       "      <td>Jun-21</td>\n",
       "      <td>1653</td>\n",
       "    </tr>\n",
       "    <tr>\n",
       "      <th>1</th>\n",
       "      <td>Jun-21</td>\n",
       "      <td>1683</td>\n",
       "    </tr>\n",
       "    <tr>\n",
       "      <th>2</th>\n",
       "      <td>Jun-21</td>\n",
       "      <td>1643</td>\n",
       "    </tr>\n",
       "    <tr>\n",
       "      <th>3</th>\n",
       "      <td>Jun-21</td>\n",
       "      <td>1688</td>\n",
       "    </tr>\n",
       "    <tr>\n",
       "      <th>4</th>\n",
       "      <td>Jun-21</td>\n",
       "      <td>1694</td>\n",
       "    </tr>\n",
       "  </tbody>\n",
       "</table>\n",
       "</div>"
      ],
      "text/plain": [
       "    Month  Series ID: INTL.55-1-NGA-TBPD.M thousand barrels per day\n",
       "0  Jun-21                                               1653       \n",
       "1  Jun-21                                               1683       \n",
       "2  Jun-21                                               1643       \n",
       "3  Jun-21                                               1688       \n",
       "4  Jun-21                                               1694       "
      ]
     },
     "execution_count": 68,
     "metadata": {},
     "output_type": "execute_result"
    }
   ],
   "source": [
    "ngadf.head()"
   ]
  },
  {
   "cell_type": "code",
   "execution_count": 69,
   "id": "dfad0cfe",
   "metadata": {},
   "outputs": [],
   "source": [
    "TEXAS = \"Resources/Texas_Field_Production_of_Crude_Oil.csv\""
   ]
  },
  {
   "cell_type": "code",
   "execution_count": 70,
   "id": "9ea239e7",
   "metadata": {},
   "outputs": [],
   "source": [
    "texasdf = pd.read_csv(TEXAS)"
   ]
  },
  {
   "cell_type": "code",
   "execution_count": 71,
   "id": "24b31a3f",
   "metadata": {},
   "outputs": [
    {
     "data": {
      "text/html": [
       "<div>\n",
       "<style scoped>\n",
       "    .dataframe tbody tr th:only-of-type {\n",
       "        vertical-align: middle;\n",
       "    }\n",
       "\n",
       "    .dataframe tbody tr th {\n",
       "        vertical-align: top;\n",
       "    }\n",
       "\n",
       "    .dataframe thead th {\n",
       "        text-align: right;\n",
       "    }\n",
       "</style>\n",
       "<table border=\"1\" class=\"dataframe\">\n",
       "  <thead>\n",
       "    <tr style=\"text-align: right;\">\n",
       "      <th></th>\n",
       "      <th>Month</th>\n",
       "      <th>Texas Field Production of Crude Oil Thousand Barrels per Day</th>\n",
       "    </tr>\n",
       "  </thead>\n",
       "  <tbody>\n",
       "    <tr>\n",
       "      <th>0</th>\n",
       "      <td>Jul-21</td>\n",
       "      <td>4810</td>\n",
       "    </tr>\n",
       "    <tr>\n",
       "      <th>1</th>\n",
       "      <td>Jul-21</td>\n",
       "      <td>4782</td>\n",
       "    </tr>\n",
       "    <tr>\n",
       "      <th>2</th>\n",
       "      <td>Jul-21</td>\n",
       "      <td>4806</td>\n",
       "    </tr>\n",
       "    <tr>\n",
       "      <th>3</th>\n",
       "      <td>Jul-21</td>\n",
       "      <td>4837</td>\n",
       "    </tr>\n",
       "    <tr>\n",
       "      <th>4</th>\n",
       "      <td>Jul-21</td>\n",
       "      <td>4728</td>\n",
       "    </tr>\n",
       "  </tbody>\n",
       "</table>\n",
       "</div>"
      ],
      "text/plain": [
       "    Month  Texas Field Production of Crude Oil Thousand Barrels per Day\n",
       "0  Jul-21                                               4810           \n",
       "1  Jul-21                                               4782           \n",
       "2  Jul-21                                               4806           \n",
       "3  Jul-21                                               4837           \n",
       "4  Jul-21                                               4728           "
      ]
     },
     "execution_count": 71,
     "metadata": {},
     "output_type": "execute_result"
    }
   ],
   "source": [
    "texasdf.head()"
   ]
  },
  {
   "cell_type": "code",
   "execution_count": 72,
   "id": "f7cf053d",
   "metadata": {},
   "outputs": [
    {
     "data": {
      "text/html": [
       "<div>\n",
       "<style scoped>\n",
       "    .dataframe tbody tr th:only-of-type {\n",
       "        vertical-align: middle;\n",
       "    }\n",
       "\n",
       "    .dataframe tbody tr th {\n",
       "        vertical-align: top;\n",
       "    }\n",
       "\n",
       "    .dataframe thead th {\n",
       "        text-align: right;\n",
       "    }\n",
       "</style>\n",
       "<table border=\"1\" class=\"dataframe\">\n",
       "  <thead>\n",
       "    <tr style=\"text-align: right;\">\n",
       "      <th></th>\n",
       "      <th>Month</th>\n",
       "      <th>Barrels Crude Oil Produced Per Day</th>\n",
       "    </tr>\n",
       "  </thead>\n",
       "  <tbody>\n",
       "    <tr>\n",
       "      <th>0</th>\n",
       "      <td>Jun-21</td>\n",
       "      <td>1653</td>\n",
       "    </tr>\n",
       "    <tr>\n",
       "      <th>1</th>\n",
       "      <td>Jun-21</td>\n",
       "      <td>1683</td>\n",
       "    </tr>\n",
       "    <tr>\n",
       "      <th>2</th>\n",
       "      <td>Jun-21</td>\n",
       "      <td>1643</td>\n",
       "    </tr>\n",
       "    <tr>\n",
       "      <th>3</th>\n",
       "      <td>Jun-21</td>\n",
       "      <td>1688</td>\n",
       "    </tr>\n",
       "    <tr>\n",
       "      <th>4</th>\n",
       "      <td>Jun-21</td>\n",
       "      <td>1694</td>\n",
       "    </tr>\n",
       "    <tr>\n",
       "      <th>...</th>\n",
       "      <td>...</td>\n",
       "      <td>...</td>\n",
       "    </tr>\n",
       "    <tr>\n",
       "      <th>337</th>\n",
       "      <td>May-22</td>\n",
       "      <td>1936</td>\n",
       "    </tr>\n",
       "    <tr>\n",
       "      <th>338</th>\n",
       "      <td>May-22</td>\n",
       "      <td>1936</td>\n",
       "    </tr>\n",
       "    <tr>\n",
       "      <th>339</th>\n",
       "      <td>May-22</td>\n",
       "      <td>1984</td>\n",
       "    </tr>\n",
       "    <tr>\n",
       "      <th>340</th>\n",
       "      <td>May-22</td>\n",
       "      <td>2013</td>\n",
       "    </tr>\n",
       "    <tr>\n",
       "      <th>341</th>\n",
       "      <td>May-22</td>\n",
       "      <td>2032</td>\n",
       "    </tr>\n",
       "  </tbody>\n",
       "</table>\n",
       "<p>342 rows × 2 columns</p>\n",
       "</div>"
      ],
      "text/plain": [
       "      Month  Barrels Crude Oil Produced Per Day\n",
       "0    Jun-21                                1653\n",
       "1    Jun-21                                1683\n",
       "2    Jun-21                                1643\n",
       "3    Jun-21                                1688\n",
       "4    Jun-21                                1694\n",
       "..      ...                                 ...\n",
       "337  May-22                                1936\n",
       "338  May-22                                1936\n",
       "339  May-22                                1984\n",
       "340  May-22                                2013\n",
       "341  May-22                                2032\n",
       "\n",
       "[342 rows x 2 columns]"
      ]
     },
     "execution_count": 72,
     "metadata": {},
     "output_type": "execute_result"
    }
   ],
   "source": [
    "#Rename Column\n",
    "ngadf1 = ngadf.rename(columns = {\"Series ID: INTL.55-1-NGA-TBPD.M thousand barrels per day\":\"Barrels Crude Oil Produced Per Day\"})\n",
    "ngadf1"
   ]
  },
  {
   "cell_type": "code",
   "execution_count": null,
   "id": "499291b0",
   "metadata": {},
   "outputs": [],
   "source": []
  },
  {
   "cell_type": "code",
   "execution_count": 73,
   "id": "91516f11",
   "metadata": {},
   "outputs": [
    {
     "data": {
      "text/html": [
       "<div>\n",
       "<style scoped>\n",
       "    .dataframe tbody tr th:only-of-type {\n",
       "        vertical-align: middle;\n",
       "    }\n",
       "\n",
       "    .dataframe tbody tr th {\n",
       "        vertical-align: top;\n",
       "    }\n",
       "\n",
       "    .dataframe thead th {\n",
       "        text-align: right;\n",
       "    }\n",
       "</style>\n",
       "<table border=\"1\" class=\"dataframe\">\n",
       "  <thead>\n",
       "    <tr style=\"text-align: right;\">\n",
       "      <th></th>\n",
       "      <th>Month</th>\n",
       "      <th>Barrels Crude Oil Produced Per Day</th>\n",
       "    </tr>\n",
       "  </thead>\n",
       "  <tbody>\n",
       "    <tr>\n",
       "      <th>0</th>\n",
       "      <td>Jul-21</td>\n",
       "      <td>4810</td>\n",
       "    </tr>\n",
       "    <tr>\n",
       "      <th>1</th>\n",
       "      <td>Jul-21</td>\n",
       "      <td>4782</td>\n",
       "    </tr>\n",
       "    <tr>\n",
       "      <th>2</th>\n",
       "      <td>Jul-21</td>\n",
       "      <td>4806</td>\n",
       "    </tr>\n",
       "    <tr>\n",
       "      <th>3</th>\n",
       "      <td>Jul-21</td>\n",
       "      <td>4837</td>\n",
       "    </tr>\n",
       "    <tr>\n",
       "      <th>4</th>\n",
       "      <td>Jul-21</td>\n",
       "      <td>4728</td>\n",
       "    </tr>\n",
       "    <tr>\n",
       "      <th>...</th>\n",
       "      <td>...</td>\n",
       "      <td>...</td>\n",
       "    </tr>\n",
       "    <tr>\n",
       "      <th>482</th>\n",
       "      <td>Nov-22</td>\n",
       "      <td>2577</td>\n",
       "    </tr>\n",
       "    <tr>\n",
       "      <th>483</th>\n",
       "      <td>Nov-22</td>\n",
       "      <td>2578</td>\n",
       "    </tr>\n",
       "    <tr>\n",
       "      <th>484</th>\n",
       "      <td>Nov-22</td>\n",
       "      <td>2604</td>\n",
       "    </tr>\n",
       "    <tr>\n",
       "      <th>485</th>\n",
       "      <td>Nov-22</td>\n",
       "      <td>2593</td>\n",
       "    </tr>\n",
       "    <tr>\n",
       "      <th>486</th>\n",
       "      <td>Nov-22</td>\n",
       "      <td>2600</td>\n",
       "    </tr>\n",
       "  </tbody>\n",
       "</table>\n",
       "<p>487 rows × 2 columns</p>\n",
       "</div>"
      ],
      "text/plain": [
       "      Month  Barrels Crude Oil Produced Per Day\n",
       "0    Jul-21                                4810\n",
       "1    Jul-21                                4782\n",
       "2    Jul-21                                4806\n",
       "3    Jul-21                                4837\n",
       "4    Jul-21                                4728\n",
       "..      ...                                 ...\n",
       "482  Nov-22                                2577\n",
       "483  Nov-22                                2578\n",
       "484  Nov-22                                2604\n",
       "485  Nov-22                                2593\n",
       "486  Nov-22                                2600\n",
       "\n",
       "[487 rows x 2 columns]"
      ]
     },
     "execution_count": 73,
     "metadata": {},
     "output_type": "execute_result"
    }
   ],
   "source": [
    "texasdf1 = texasdf.rename(columns = {\"Texas Field Production of Crude Oil Thousand Barrels per Day\":\"Barrels Crude Oil Produced Per Day\"})\n",
    "texasdf1"
   ]
  },
  {
   "cell_type": "code",
   "execution_count": 74,
   "id": "fa74c0d8",
   "metadata": {},
   "outputs": [],
   "source": [
    "#Rename Columns\n",
    "ngadf1[\"Barrels Crude Oil Produced Per Day\"] = pd.to_numeric(ngadf1[\"Barrels Crude Oil Produced Per Day\"])\n",
    "texasdf1[\"Barrels Crude Oil Produced Per Day\"] = pd.to_numeric(texasdf1[\"Barrels Crude Oil Produced Per Day\"])"
   ]
  },
  {
   "cell_type": "code",
   "execution_count": 75,
   "id": "69660e48",
   "metadata": {},
   "outputs": [],
   "source": [
    "ngadf1[\"Barrels Crude Oil Produced Per Day\"] = ngadf1[\"Barrels Crude Oil Produced Per Day\"].round()"
   ]
  },
  {
   "cell_type": "code",
   "execution_count": 76,
   "id": "1fdd3f2d",
   "metadata": {},
   "outputs": [
    {
     "data": {
      "text/plain": [
       "0      1653\n",
       "1      1683\n",
       "2      1643\n",
       "3      1688\n",
       "4      1694\n",
       "       ... \n",
       "337    1936\n",
       "338    1936\n",
       "339    1984\n",
       "340    2013\n",
       "341    2032\n",
       "Name: Barrels Crude Oil Produced Per Day, Length: 342, dtype: int64"
      ]
     },
     "execution_count": 76,
     "metadata": {},
     "output_type": "execute_result"
    }
   ],
   "source": [
    "ngadf1[\"Barrels Crude Oil Produced Per Day\"].astype(int)"
   ]
  },
  {
   "cell_type": "code",
   "execution_count": 77,
   "id": "ab2d30bc",
   "metadata": {},
   "outputs": [
    {
     "data": {
      "text/plain": [
       "0      1653\n",
       "1      1683\n",
       "2      1643\n",
       "3      1688\n",
       "4      1694\n",
       "       ... \n",
       "337    1936\n",
       "338    1936\n",
       "339    1984\n",
       "340    2013\n",
       "341    2032\n",
       "Name: Barrels Crude Oil Produced Per Day, Length: 342, dtype: float64"
      ]
     },
     "execution_count": 77,
     "metadata": {},
     "output_type": "execute_result"
    }
   ],
   "source": [
    "ngadf1[\"Barrels Crude Oil Produced Per Day\"].round()"
   ]
  },
  {
   "cell_type": "code",
   "execution_count": 78,
   "id": "a14991e1",
   "metadata": {},
   "outputs": [],
   "source": [
    "pd.set_option('precision',0)"
   ]
  },
  {
   "cell_type": "code",
   "execution_count": 79,
   "id": "7d4a1ca1",
   "metadata": {},
   "outputs": [
    {
     "data": {
      "text/html": [
       "<div>\n",
       "<style scoped>\n",
       "    .dataframe tbody tr th:only-of-type {\n",
       "        vertical-align: middle;\n",
       "    }\n",
       "\n",
       "    .dataframe tbody tr th {\n",
       "        vertical-align: top;\n",
       "    }\n",
       "\n",
       "    .dataframe thead th {\n",
       "        text-align: right;\n",
       "    }\n",
       "</style>\n",
       "<table border=\"1\" class=\"dataframe\">\n",
       "  <thead>\n",
       "    <tr style=\"text-align: right;\">\n",
       "      <th></th>\n",
       "      <th>Month</th>\n",
       "      <th>Barrels Crude Oil Produced Per Day</th>\n",
       "    </tr>\n",
       "  </thead>\n",
       "  <tbody>\n",
       "    <tr>\n",
       "      <th>0</th>\n",
       "      <td>Jun-21</td>\n",
       "      <td>1653</td>\n",
       "    </tr>\n",
       "    <tr>\n",
       "      <th>1</th>\n",
       "      <td>Jun-21</td>\n",
       "      <td>1683</td>\n",
       "    </tr>\n",
       "    <tr>\n",
       "      <th>2</th>\n",
       "      <td>Jun-21</td>\n",
       "      <td>1643</td>\n",
       "    </tr>\n",
       "    <tr>\n",
       "      <th>3</th>\n",
       "      <td>Jun-21</td>\n",
       "      <td>1688</td>\n",
       "    </tr>\n",
       "    <tr>\n",
       "      <th>4</th>\n",
       "      <td>Jun-21</td>\n",
       "      <td>1694</td>\n",
       "    </tr>\n",
       "    <tr>\n",
       "      <th>...</th>\n",
       "      <td>...</td>\n",
       "      <td>...</td>\n",
       "    </tr>\n",
       "    <tr>\n",
       "      <th>337</th>\n",
       "      <td>May-22</td>\n",
       "      <td>1936</td>\n",
       "    </tr>\n",
       "    <tr>\n",
       "      <th>338</th>\n",
       "      <td>May-22</td>\n",
       "      <td>1936</td>\n",
       "    </tr>\n",
       "    <tr>\n",
       "      <th>339</th>\n",
       "      <td>May-22</td>\n",
       "      <td>1984</td>\n",
       "    </tr>\n",
       "    <tr>\n",
       "      <th>340</th>\n",
       "      <td>May-22</td>\n",
       "      <td>2013</td>\n",
       "    </tr>\n",
       "    <tr>\n",
       "      <th>341</th>\n",
       "      <td>May-22</td>\n",
       "      <td>2032</td>\n",
       "    </tr>\n",
       "  </tbody>\n",
       "</table>\n",
       "<p>342 rows × 2 columns</p>\n",
       "</div>"
      ],
      "text/plain": [
       "      Month  Barrels Crude Oil Produced Per Day\n",
       "0    Jun-21                                1653\n",
       "1    Jun-21                                1683\n",
       "2    Jun-21                                1643\n",
       "3    Jun-21                                1688\n",
       "4    Jun-21                                1694\n",
       "..      ...                                 ...\n",
       "337  May-22                                1936\n",
       "338  May-22                                1936\n",
       "339  May-22                                1984\n",
       "340  May-22                                2013\n",
       "341  May-22                                2032\n",
       "\n",
       "[342 rows x 2 columns]"
      ]
     },
     "execution_count": 79,
     "metadata": {},
     "output_type": "execute_result"
    }
   ],
   "source": [
    "ngadf1"
   ]
  },
  {
   "cell_type": "code",
   "execution_count": 80,
   "id": "2b39b742",
   "metadata": {},
   "outputs": [],
   "source": [
    "ngadf1[\"Month\"] = ngadf1[\"Month\"].astype(str)"
   ]
  },
  {
   "cell_type": "code",
   "execution_count": 94,
   "id": "40ab6188",
   "metadata": {},
   "outputs": [
    {
     "data": {
      "text/html": [
       "<div>\n",
       "<style scoped>\n",
       "    .dataframe tbody tr th:only-of-type {\n",
       "        vertical-align: middle;\n",
       "    }\n",
       "\n",
       "    .dataframe tbody tr th {\n",
       "        vertical-align: top;\n",
       "    }\n",
       "\n",
       "    .dataframe thead th {\n",
       "        text-align: right;\n",
       "    }\n",
       "</style>\n",
       "<table border=\"1\" class=\"dataframe\">\n",
       "  <thead>\n",
       "    <tr style=\"text-align: right;\">\n",
       "      <th></th>\n",
       "      <th>Month</th>\n",
       "      <th>Barrels Crude Oil Produced Per Day</th>\n",
       "      <th>Mon</th>\n",
       "      <th>Year</th>\n",
       "    </tr>\n",
       "  </thead>\n",
       "  <tbody>\n",
       "    <tr>\n",
       "      <th>0</th>\n",
       "      <td>Jun-21</td>\n",
       "      <td>1653</td>\n",
       "      <td>Jun</td>\n",
       "      <td>21</td>\n",
       "    </tr>\n",
       "    <tr>\n",
       "      <th>1</th>\n",
       "      <td>Jun-21</td>\n",
       "      <td>1683</td>\n",
       "      <td>Jun</td>\n",
       "      <td>21</td>\n",
       "    </tr>\n",
       "    <tr>\n",
       "      <th>2</th>\n",
       "      <td>Jun-21</td>\n",
       "      <td>1643</td>\n",
       "      <td>Jun</td>\n",
       "      <td>21</td>\n",
       "    </tr>\n",
       "    <tr>\n",
       "      <th>3</th>\n",
       "      <td>Jun-21</td>\n",
       "      <td>1688</td>\n",
       "      <td>Jun</td>\n",
       "      <td>21</td>\n",
       "    </tr>\n",
       "    <tr>\n",
       "      <th>4</th>\n",
       "      <td>Jun-21</td>\n",
       "      <td>1694</td>\n",
       "      <td>Jun</td>\n",
       "      <td>21</td>\n",
       "    </tr>\n",
       "    <tr>\n",
       "      <th>...</th>\n",
       "      <td>...</td>\n",
       "      <td>...</td>\n",
       "      <td>...</td>\n",
       "      <td>...</td>\n",
       "    </tr>\n",
       "    <tr>\n",
       "      <th>337</th>\n",
       "      <td>May-22</td>\n",
       "      <td>1936</td>\n",
       "      <td>May</td>\n",
       "      <td>22</td>\n",
       "    </tr>\n",
       "    <tr>\n",
       "      <th>338</th>\n",
       "      <td>May-22</td>\n",
       "      <td>1936</td>\n",
       "      <td>May</td>\n",
       "      <td>22</td>\n",
       "    </tr>\n",
       "    <tr>\n",
       "      <th>339</th>\n",
       "      <td>May-22</td>\n",
       "      <td>1984</td>\n",
       "      <td>May</td>\n",
       "      <td>22</td>\n",
       "    </tr>\n",
       "    <tr>\n",
       "      <th>340</th>\n",
       "      <td>May-22</td>\n",
       "      <td>2013</td>\n",
       "      <td>May</td>\n",
       "      <td>22</td>\n",
       "    </tr>\n",
       "    <tr>\n",
       "      <th>341</th>\n",
       "      <td>May-22</td>\n",
       "      <td>2032</td>\n",
       "      <td>May</td>\n",
       "      <td>22</td>\n",
       "    </tr>\n",
       "  </tbody>\n",
       "</table>\n",
       "<p>342 rows × 4 columns</p>\n",
       "</div>"
      ],
      "text/plain": [
       "      Month  Barrels Crude Oil Produced Per Day  Mon Year\n",
       "0    Jun-21                                1653  Jun   21\n",
       "1    Jun-21                                1683  Jun   21\n",
       "2    Jun-21                                1643  Jun   21\n",
       "3    Jun-21                                1688  Jun   21\n",
       "4    Jun-21                                1694  Jun   21\n",
       "..      ...                                 ...  ...  ...\n",
       "337  May-22                                1936  May   22\n",
       "338  May-22                                1936  May   22\n",
       "339  May-22                                1984  May   22\n",
       "340  May-22                                2013  May   22\n",
       "341  May-22                                2032  May   22\n",
       "\n",
       "[342 rows x 4 columns]"
      ]
     },
     "execution_count": 94,
     "metadata": {},
     "output_type": "execute_result"
    }
   ],
   "source": [
    "ngadf1[['Mon', 'Year']] = ngadf1[\"Month\"].str.split(\"-\", expand=True)\n",
    "texasdf1[['Mon', 'Year']] =texasdf1[\"Month\"].str.split(\"-\", expand=True)\n",
    "ngadf1"
   ]
  },
  {
   "cell_type": "code",
   "execution_count": 93,
   "id": "6bab3f68",
   "metadata": {},
   "outputs": [
    {
     "data": {
      "text/plain": [
       "Jan-22    31\n",
       "Jul-21    31\n",
       "Dec-21    31\n",
       "Mar-22    31\n",
       "Aug-21    31\n",
       "Oct-21    31\n",
       "Sep-21    30\n",
       "Apr-22    30\n",
       "Nov-21    30\n",
       "May-22    28\n",
       "Feb-22    28\n",
       "Jun-21    10\n",
       "Name: Month, dtype: int64"
      ]
     },
     "execution_count": 93,
     "metadata": {},
     "output_type": "execute_result"
    }
   ],
   "source": [
    "monthgroupNGA = ngadf1[\"Month\"].value_counts()\n",
    "monthgroupNGA"
   ]
  },
  {
   "cell_type": "code",
   "execution_count": 96,
   "id": "544d4e12",
   "metadata": {
    "scrolled": true
   },
   "outputs": [
    {
     "data": {
      "text/plain": [
       "Dec-21    31\n",
       "Jan-22    31\n",
       "Aug-22    31\n",
       "Aug-21    31\n",
       "Oct-22    31\n",
       "Mar-22    31\n",
       "Oct-21    31\n",
       "May-22    31\n",
       "Jul-22    31\n",
       "Sep-22    30\n",
       "Jun-22    30\n",
       "Apr-22    30\n",
       "Nov-21    30\n",
       "Sep-21    30\n",
       "Feb-22    28\n",
       "Nov-22    19\n",
       "Jul-21    11\n",
       "Name: Month, dtype: int64"
      ]
     },
     "execution_count": 96,
     "metadata": {},
     "output_type": "execute_result"
    }
   ],
   "source": [
    "monthgroupTexas = texasdf1[\"Month\"].value_counts()\n",
    "monthgroupTexas"
   ]
  },
  {
   "cell_type": "code",
   "execution_count": 101,
   "id": "0d88bd0b",
   "metadata": {},
   "outputs": [
    {
     "data": {
      "text/html": [
       "<div>\n",
       "<style scoped>\n",
       "    .dataframe tbody tr th:only-of-type {\n",
       "        vertical-align: middle;\n",
       "    }\n",
       "\n",
       "    .dataframe tbody tr th {\n",
       "        vertical-align: top;\n",
       "    }\n",
       "\n",
       "    .dataframe thead th {\n",
       "        text-align: right;\n",
       "    }\n",
       "</style>\n",
       "<table border=\"1\" class=\"dataframe\">\n",
       "  <thead>\n",
       "    <tr style=\"text-align: right;\">\n",
       "      <th></th>\n",
       "      <th>Barrels Crude Oil Produced Per Day</th>\n",
       "    </tr>\n",
       "    <tr>\n",
       "      <th>Month</th>\n",
       "      <th></th>\n",
       "    </tr>\n",
       "  </thead>\n",
       "  <tbody>\n",
       "    <tr>\n",
       "      <th>Apr-22</th>\n",
       "      <td>61421</td>\n",
       "    </tr>\n",
       "    <tr>\n",
       "      <th>Aug-21</th>\n",
       "      <td>62916</td>\n",
       "    </tr>\n",
       "    <tr>\n",
       "      <th>Dec-21</th>\n",
       "      <td>76435</td>\n",
       "    </tr>\n",
       "    <tr>\n",
       "      <th>Feb-22</th>\n",
       "      <td>61474</td>\n",
       "    </tr>\n",
       "    <tr>\n",
       "      <th>Jan-22</th>\n",
       "      <td>71875</td>\n",
       "    </tr>\n",
       "    <tr>\n",
       "      <th>Jul-21</th>\n",
       "      <td>61208</td>\n",
       "    </tr>\n",
       "    <tr>\n",
       "      <th>Jun-21</th>\n",
       "      <td>17016</td>\n",
       "    </tr>\n",
       "    <tr>\n",
       "      <th>Mar-22</th>\n",
       "      <td>66209</td>\n",
       "    </tr>\n",
       "    <tr>\n",
       "      <th>May-22</th>\n",
       "      <td>54486</td>\n",
       "    </tr>\n",
       "    <tr>\n",
       "      <th>Nov-21</th>\n",
       "      <td>66941</td>\n",
       "    </tr>\n",
       "    <tr>\n",
       "      <th>Oct-21</th>\n",
       "      <td>77839</td>\n",
       "    </tr>\n",
       "    <tr>\n",
       "      <th>Sep-21</th>\n",
       "      <td>70504</td>\n",
       "    </tr>\n",
       "  </tbody>\n",
       "</table>\n",
       "</div>"
      ],
      "text/plain": [
       "        Barrels Crude Oil Produced Per Day\n",
       "Month                                     \n",
       "Apr-22                               61421\n",
       "Aug-21                               62916\n",
       "Dec-21                               76435\n",
       "Feb-22                               61474\n",
       "Jan-22                               71875\n",
       "Jul-21                               61208\n",
       "Jun-21                               17016\n",
       "Mar-22                               66209\n",
       "May-22                               54486\n",
       "Nov-21                               66941\n",
       "Oct-21                               77839\n",
       "Sep-21                               70504"
      ]
     },
     "execution_count": 101,
     "metadata": {},
     "output_type": "execute_result"
    }
   ],
   "source": [
    "groupNGA = ngadf1.groupby([\"Month\"]).sum()\n",
    "groupNGA"
   ]
  },
  {
   "cell_type": "code",
   "execution_count": 102,
   "id": "a4631b50",
   "metadata": {},
   "outputs": [
    {
     "data": {
      "text/html": [
       "<div>\n",
       "<style scoped>\n",
       "    .dataframe tbody tr th:only-of-type {\n",
       "        vertical-align: middle;\n",
       "    }\n",
       "\n",
       "    .dataframe tbody tr th {\n",
       "        vertical-align: top;\n",
       "    }\n",
       "\n",
       "    .dataframe thead th {\n",
       "        text-align: right;\n",
       "    }\n",
       "</style>\n",
       "<table border=\"1\" class=\"dataframe\">\n",
       "  <thead>\n",
       "    <tr style=\"text-align: right;\">\n",
       "      <th></th>\n",
       "      <th>Barrels Crude Oil Produced Per Day</th>\n",
       "    </tr>\n",
       "    <tr>\n",
       "      <th>Month</th>\n",
       "      <th></th>\n",
       "    </tr>\n",
       "  </thead>\n",
       "  <tbody>\n",
       "    <tr>\n",
       "      <th>Apr-22</th>\n",
       "      <td>38985</td>\n",
       "    </tr>\n",
       "    <tr>\n",
       "      <th>Aug-21</th>\n",
       "      <td>149850</td>\n",
       "    </tr>\n",
       "    <tr>\n",
       "      <th>Aug-22</th>\n",
       "      <td>60602</td>\n",
       "    </tr>\n",
       "    <tr>\n",
       "      <th>Dec-21</th>\n",
       "      <td>34308</td>\n",
       "    </tr>\n",
       "    <tr>\n",
       "      <th>Feb-22</th>\n",
       "      <td>30423</td>\n",
       "    </tr>\n",
       "    <tr>\n",
       "      <th>Jan-22</th>\n",
       "      <td>33218</td>\n",
       "    </tr>\n",
       "    <tr>\n",
       "      <th>Jul-21</th>\n",
       "      <td>50964</td>\n",
       "    </tr>\n",
       "    <tr>\n",
       "      <th>Jul-22</th>\n",
       "      <td>56969</td>\n",
       "    </tr>\n",
       "    <tr>\n",
       "      <th>Jun-22</th>\n",
       "      <td>49565</td>\n",
       "    </tr>\n",
       "    <tr>\n",
       "      <th>Mar-22</th>\n",
       "      <td>35683</td>\n",
       "    </tr>\n",
       "    <tr>\n",
       "      <th>May-22</th>\n",
       "      <td>46122</td>\n",
       "    </tr>\n",
       "    <tr>\n",
       "      <th>Nov-21</th>\n",
       "      <td>48439</td>\n",
       "    </tr>\n",
       "    <tr>\n",
       "      <th>Nov-22</th>\n",
       "      <td>48170</td>\n",
       "    </tr>\n",
       "    <tr>\n",
       "      <th>Oct-21</th>\n",
       "      <td>93192</td>\n",
       "    </tr>\n",
       "    <tr>\n",
       "      <th>Oct-22</th>\n",
       "      <td>75079</td>\n",
       "    </tr>\n",
       "    <tr>\n",
       "      <th>Sep-21</th>\n",
       "      <td>101016</td>\n",
       "    </tr>\n",
       "    <tr>\n",
       "      <th>Sep-22</th>\n",
       "      <td>67569</td>\n",
       "    </tr>\n",
       "  </tbody>\n",
       "</table>\n",
       "</div>"
      ],
      "text/plain": [
       "        Barrels Crude Oil Produced Per Day\n",
       "Month                                     \n",
       "Apr-22                               38985\n",
       "Aug-21                              149850\n",
       "Aug-22                               60602\n",
       "Dec-21                               34308\n",
       "Feb-22                               30423\n",
       "Jan-22                               33218\n",
       "Jul-21                               50964\n",
       "Jul-22                               56969\n",
       "Jun-22                               49565\n",
       "Mar-22                               35683\n",
       "May-22                               46122\n",
       "Nov-21                               48439\n",
       "Nov-22                               48170\n",
       "Oct-21                               93192\n",
       "Oct-22                               75079\n",
       "Sep-21                              101016\n",
       "Sep-22                               67569"
      ]
     },
     "execution_count": 102,
     "metadata": {},
     "output_type": "execute_result"
    }
   ],
   "source": [
    "groupTexas = texasdf1.groupby([\"Month\"]).sum()\n",
    "groupTexas"
   ]
  },
  {
   "cell_type": "code",
   "execution_count": 105,
   "id": "dc8f9d2f",
   "metadata": {},
   "outputs": [],
   "source": [
    "groupTexas = groupTexas.rename(columns = {\"Barrels Crude Oil Produced Per Day\":\"Barrels Crude Oil Produced Per Day in Texas\"})\n",
    "groupNGA = groupNGA.rename(columns = {\"Barrels Crude Oil Produced Per Day\":\"Barrels Crude Oil Produced Per Day in Nigeria\"})\n"
   ]
  },
  {
   "cell_type": "code",
   "execution_count": 136,
   "id": "b12efe2e",
   "metadata": {},
   "outputs": [],
   "source": [
    "groupTexas\n",
    "groupTexas.to_csv(\"TexasData.csv\")"
   ]
  },
  {
   "cell_type": "code",
   "execution_count": 137,
   "id": "c0d97da0",
   "metadata": {
    "scrolled": true
   },
   "outputs": [],
   "source": [
    "groupNGA\n",
    "groupNGA.to_csv(\"NigeriaData.csv\")"
   ]
  },
  {
   "cell_type": "code",
   "execution_count": 20,
   "id": "250590a2",
   "metadata": {},
   "outputs": [],
   "source": [
    "newngadf.to_csv(\"NewNigeriaData.csv\")"
   ]
  },
  {
   "cell_type": "code",
   "execution_count": 138,
   "id": "7845b2cb",
   "metadata": {},
   "outputs": [],
   "source": [
    "# !pip install psycopg2-binary"
   ]
  },
  {
   "cell_type": "code",
   "execution_count": null,
   "id": "e4a6486b",
   "metadata": {},
   "outputs": [],
   "source": [
    "# Load "
   ]
  },
  {
   "cell_type": "code",
   "execution_count": 147,
   "id": "6d645c84",
   "metadata": {},
   "outputs": [],
   "source": [
    "database_path1 = \"/Users/anderson/Desktop/RiceLecture/xProject 2 ETL/NigeriaData.csv\""
   ]
  },
  {
   "cell_type": "code",
   "execution_count": 148,
   "id": "dc11746f",
   "metadata": {},
   "outputs": [],
   "source": [
    "engine = create_engine(f'sqlite://{database_path1}')"
   ]
  },
  {
   "cell_type": "code",
   "execution_count": 151,
   "id": "57c2e4c9",
   "metadata": {},
   "outputs": [],
   "source": [
    "engine.table_names()"
   ]
  },
  {
   "cell_type": "code",
   "execution_count": 152,
   "id": "67e0bfb2",
   "metadata": {},
   "outputs": [],
   "source": [
    "groupNGA.to_sql(name = 'Nigeria Data', con = engine, if_exists ='append', index = False)"
   ]
  },
  {
   "cell_type": "code",
   "execution_count": 22,
   "id": "4dcba3d4",
   "metadata": {},
   "outputs": [],
   "source": [
    "groupTexas.to_sql(name = 'Texas Data', con = engine, if_exists ='append', index = False)"
   ]
  },
  {
   "cell_type": "code",
   "execution_count": null,
   "id": "319868c3",
   "metadata": {},
   "outputs": [],
   "source": [
    "newngadf.t0_sq;(name = 'New Nigeria Data', con = engine, if_exists ='append', index = False)"
   ]
  },
  {
   "cell_type": "code",
   "execution_count": 108,
   "id": "01517429",
   "metadata": {},
   "outputs": [],
   "source": [
    "#texasdf1[['Mon', 'Year']] =texasdf1[\"Month\"].str.split(\"-\", expand=True)\n"
   ]
  },
  {
   "cell_type": "code",
   "execution_count": 112,
   "id": "0aaa5d50",
   "metadata": {},
   "outputs": [],
   "source": [
    "#texasdf2 = texasdf1[[ 'Mon', 'Year','Barrels Crude Oil Produced Per Day']]\n",
    "#texasdf2"
   ]
  },
  {
   "cell_type": "code",
   "execution_count": null,
   "id": "e53044d5",
   "metadata": {},
   "outputs": [],
   "source": []
  },
  {
   "cell_type": "code",
   "execution_count": 111,
   "id": "0d7fdc6b",
   "metadata": {},
   "outputs": [],
   "source": [
    "#texasdf3 = texasdf2.drop(texasdf2.index[342:])\n",
    "#texasdf3"
   ]
  },
  {
   "cell_type": "code",
   "execution_count": 110,
   "id": "555bfdb5",
   "metadata": {},
   "outputs": [],
   "source": [
    "#ngadf2"
   ]
  },
  {
   "cell_type": "code",
   "execution_count": 109,
   "id": "55f79cf7",
   "metadata": {},
   "outputs": [],
   "source": [
    "#texasdfFINAL = texasdf3.rename(columns = {\"Mon\":\"Month\",\"Barrels Crude Oil Produced Per Day\":\"Barrels Crude Oil Produced Per Day in Texas\"})\n",
    "#ngadfFINAL = ngadf2.rename(columns = {\"Mon\":\"Month\",\"Barrels Crude Oil Produced Per Day\":\"Barrels Crude Oil Produced Per Day in Nigeria\"})\n",
    "#texasdfFINAL"
   ]
  },
  {
   "cell_type": "code",
   "execution_count": null,
   "id": "8deea006",
   "metadata": {},
   "outputs": [],
   "source": []
  }
 ],
 "metadata": {
  "kernelspec": {
   "display_name": "Python 3",
   "language": "python",
   "name": "python3"
  },
  "language_info": {
   "codemirror_mode": {
    "name": "ipython",
    "version": 3
   },
   "file_extension": ".py",
   "mimetype": "text/x-python",
   "name": "python",
   "nbconvert_exporter": "python",
   "pygments_lexer": "ipython3",
   "version": "3.8.8"
  }
 },
 "nbformat": 4,
 "nbformat_minor": 5
}
